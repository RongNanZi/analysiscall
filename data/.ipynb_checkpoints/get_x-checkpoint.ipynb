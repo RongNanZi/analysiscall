{
 "cells": [
  {
   "cell_type": "markdown",
   "metadata": {},
   "source": [
    "# about token vocabulary\n",
    "it includ 'unk' and it'value is 57, and some word's value is 0"
   ]
  },
  {
   "cell_type": "code",
   "execution_count": 1,
   "metadata": {},
   "outputs": [
    {
     "name": "stderr",
     "output_type": "stream",
     "text": [
      "Using TensorFlow backend.\n"
     ]
    }
   ],
   "source": [
    "from get_gensim_x import *\n",
    "\n",
    "get_gensim_token_x('call_reason.csv', 'token', 600, 'token_em.model', 'token_g.x')"
   ]
  },
  {
   "cell_type": "code",
   "execution_count": 22,
   "metadata": {},
   "outputs": [],
   "source": [
    "import pandas as pd\n",
    "import pickle as p\n",
    "from keras.preprocessing.sequence import pad_sequences\n",
    "import numpy as np\n",
    "from modelx import modelx\n",
    "from gensim.models import word2vec\n",
    "from sklearn.feature_extraction.text import TfidfVectorizer\n",
    "import os\n",
    "\n",
    "def read_vectors(path, topn):  # read top n word vectors, i.e. top is 10000\n",
    "    lines_num, dim = 0, 0\n",
    "    vectors = {}\n",
    "    iw = []\n",
    "    wi = {}\n",
    "    with open(path, encoding='utf-8', errors='ignore') as f:\n",
    "        first_line = True\n",
    "        for line in f:\n",
    "            if first_line:\n",
    "                first_line = False\n",
    "                dim = int(line.rstrip().split()[1])\n",
    "                continue\n",
    "            lines_num += 1\n",
    "            tokens = line.rstrip().split(' ')\n",
    "            vectors[tokens[0]] = np.asarray([float(x) for x in tokens[1:]])\n",
    "            iw.append(tokens[0])\n",
    "            if topn != 0 and lines_num >= topn:\n",
    "                break\n",
    "    for i, w in enumerate(iw):\n",
    "        wi[w] = i\n",
    "    return vectors, iw, wi, dim\n",
    "\n",
    "def get_x(csv_path,\n",
    "          col,\n",
    "          max_length,\n",
    "         embedding_file,\n",
    "          x_file):\n",
    "    token_length = max_length\n",
    "    embed_vectors,  iw, wi, dim  =  read_vectors(embedding_file, 20000)\n",
    "    #w2v = word2vec.load(embedding_file)\n",
    "    reserve_voc = {token:indict+1 for indict, token in enumerate(iw)}\n",
    "    \n",
    "    def text2idx(text):\n",
    "        idx= []\n",
    "        for token in text.split():\n",
    "            if token in reserve_voc.keys():\n",
    "                idx.append(reserve_voc[token])\n",
    "        return idx\n",
    "    \n",
    "    train_x = pd.read_csv(csv_path, usecols=[col])[col].apply(text2idx)\n",
    "    data = pad_sequences(train_x, maxlen=token_length)\n",
    "    embedding_matrix = np.r_[np.zeros(shape=(1,dim)), list(embed_vectors.values())]\n",
    "    x = modelx(embedding_matrix, token_length, data)\n",
    "    with open(x_file, 'wb') as f:\n",
    "        p.dump(x, f)\n",
    "\n",
    "get_x('call_reason.csv', 'token', 600, 'baike.bigram-char', 'token_20Kbaike.x')"
   ]
  },
  {
   "cell_type": "code",
   "execution_count": 6,
   "metadata": {},
   "outputs": [
    {
     "name": "stdout",
     "output_type": "stream",
     "text": [
      "(15187,)\n"
     ]
    }
   ],
   "source": [
    "import pandas as pd\n",
    "import pickle as p\n",
    "from keras.preprocessing.sequence import pad_sequences\n",
    "import numpy as np\n",
    "from modelx import modelx\n",
    "from gensim.models import word2vec\n",
    "from sklearn.feature_extraction.text import TfidfVectorizer\n",
    "import os\n",
    "\n",
    "def read_vectors(path, topn):  # read top n word vectors, i.e. top is 10000\n",
    "    lines_num, dim = 0, 0\n",
    "    vectors = {}\n",
    "    iw = []\n",
    "    wi = {}\n",
    "    with open(path, encoding='utf-8', errors='ignore') as f:\n",
    "        first_line = True\n",
    "        for line in f:\n",
    "            if first_line:\n",
    "                first_line = False\n",
    "                dim = int(line.rstrip().split()[1])\n",
    "                continue\n",
    "            lines_num += 1\n",
    "            tokens = line.rstrip().split(' ')\n",
    "            vectors[tokens[0]] = np.asarray([float(x) for x in tokens[1:]])\n",
    "            iw.append(tokens[0])\n",
    "            if topn != 0 and lines_num >= topn:\n",
    "                break\n",
    "    for i, w in enumerate(iw):\n",
    "        wi[w] = i\n",
    "    return vectors, iw, wi, dim\n",
    "\n",
    "def get_array(data):\n",
    "    wanted = []\n",
    "    for i in range( len(data)):\n",
    "        temp = []\n",
    "        for j in range(len(data[i])):\n",
    "            temp.append(data[i][j])\n",
    "        wanted.append(temp)\n",
    "\n",
    "    wanted = np.asarray(wanted)\n",
    "    print(wanted.shape)\n",
    "    return wanted\n",
    "\n",
    "def get_x(csv_path,\n",
    "          col,\n",
    "         embedding_file,\n",
    "          x_file):\n",
    "    #token_length = max_length\n",
    "    embed_vectors,  iw, wi, dim  =  read_vectors(embedding_file, 20000)\n",
    "    #w2v = word2vec.load(embedding_file)\n",
    "    reserve_voc = {token:indict+1 for indict, token in enumerate(iw)}\n",
    "    \n",
    "    def text2idx(text):\n",
    "        idx= []\n",
    "        for token in text.split():\n",
    "            if token in reserve_voc.keys():\n",
    "                idx.append(reserve_voc[token])\n",
    "        return idx\n",
    "    \n",
    "    train_x = pd.read_csv(csv_path, usecols=[col])[col].apply(text2idx)\n",
    "    #data = pad_sequences(train_x, maxlen=token_length)\n",
    "    train_x = get_array(train_x.values)\n",
    "    embedding_matrix = np.r_[np.zeros(shape=(1,dim)), list(embed_vectors.values())]\n",
    "    x = modelx(embedding_matrix, None, train_x)\n",
    "    with open(x_file, 'wb') as f:\n",
    "        p.dump(x, f)\n",
    "\n",
    "get_x('call_reason.csv', 'token', 'baike.bigram-char', 'token_20K_nl_baike.x')"
   ]
  },
  {
   "cell_type": "code",
   "execution_count": 16,
   "metadata": {},
   "outputs": [],
   "source": [
    "\n",
    "get_gensim_text_x('call_reason.csv', 'text', 400, 'text_em.model', 'word_g.x')"
   ]
  },
  {
   "cell_type": "code",
   "execution_count": 4,
   "metadata": {},
   "outputs": [],
   "source": [
    "a=[[0,1,1], [3,4]]\n",
    "b = pad_sequences(a)"
   ]
  },
  {
   "cell_type": "code",
   "execution_count": 5,
   "metadata": {},
   "outputs": [
    {
     "data": {
      "text/plain": [
       "array([[0, 1, 1],\n",
       "       [0, 3, 4]], dtype=int32)"
      ]
     },
     "execution_count": 5,
     "metadata": {},
     "output_type": "execute_result"
    }
   ],
   "source": [
    "b"
   ]
  },
  {
   "cell_type": "code",
   "execution_count": 4,
   "metadata": {},
   "outputs": [],
   "source": [
    "w2v = get_gensim_embedding('call_reason.csv',  'text', 'text_em.model')"
   ]
  },
  {
   "cell_type": "code",
   "execution_count": 9,
   "metadata": {},
   "outputs": [
    {
     "data": {
      "text/plain": [
       "(1622, 256)"
      ]
     },
     "execution_count": 9,
     "metadata": {},
     "output_type": "execute_result"
    }
   ],
   "source": [
    "w2v.wv.vectors.shape"
   ]
  },
  {
   "cell_type": "code",
   "execution_count": 171,
   "metadata": {},
   "outputs": [
    {
     "data": {
      "text/plain": [
       "38"
      ]
     },
     "execution_count": 171,
     "metadata": {},
     "output_type": "execute_result"
    }
   ],
   "source": [
    "def csv2txt(text):\n",
    "    text += '\\n'\n",
    "    with open('token_text.txt', 'a')as f:\n",
    "        f.write(text)\n",
    "data['token'].apply(csv2txt)\n",
    "\n",
    "w_o = word2vec.word2vec('token_text.txt', 'token_embedding.bin', 256, verbose=1)"
   ]
  },
  {
   "cell_type": "code",
   "execution_count": 161,
   "metadata": {},
   "outputs": [
    {
     "ename": "AttributeError",
     "evalue": "module 'gensim.models.word2vec' has no attribute 'load'",
     "output_type": "error",
     "traceback": [
      "\u001b[0;31m---------------------------------------------------------------------------\u001b[0m",
      "\u001b[0;31mAttributeError\u001b[0m                            Traceback (most recent call last)",
      "\u001b[0;32m<ipython-input-161-56be921ec948>\u001b[0m in \u001b[0;36m<module>\u001b[0;34m()\u001b[0m\n\u001b[1;32m     23\u001b[0m     \u001b[0;32mwith\u001b[0m \u001b[0mopen\u001b[0m\u001b[0;34m(\u001b[0m\u001b[0mx_file\u001b[0m\u001b[0;34m,\u001b[0m \u001b[0;34m'wb'\u001b[0m\u001b[0;34m)\u001b[0m \u001b[0;32mas\u001b[0m \u001b[0mf\u001b[0m\u001b[0;34m:\u001b[0m\u001b[0;34m\u001b[0m\u001b[0m\n\u001b[1;32m     24\u001b[0m         \u001b[0mp\u001b[0m\u001b[0;34m.\u001b[0m\u001b[0mdump\u001b[0m\u001b[0;34m(\u001b[0m\u001b[0mx\u001b[0m\u001b[0;34m,\u001b[0m \u001b[0mf\u001b[0m\u001b[0;34m)\u001b[0m\u001b[0;34m\u001b[0m\u001b[0m\n\u001b[0;32m---> 25\u001b[0;31m \u001b[0mget_x\u001b[0m\u001b[0;34m(\u001b[0m\u001b[0;34m'call_reason.csv'\u001b[0m\u001b[0;34m,\u001b[0m \u001b[0;34m'text'\u001b[0m\u001b[0;34m,\u001b[0m \u001b[0;36m400\u001b[0m\u001b[0;34m,\u001b[0m \u001b[0;34m'text_em.model'\u001b[0m\u001b[0;34m,\u001b[0m \u001b[0;34m'word_g.x'\u001b[0m\u001b[0;34m)\u001b[0m\u001b[0;34m\u001b[0m\u001b[0m\n\u001b[0m",
      "\u001b[0;32m<ipython-input-161-56be921ec948>\u001b[0m in \u001b[0;36mget_x\u001b[0;34m(csv_path, col, max_length, embedding_file, x_file)\u001b[0m\n\u001b[1;32m      5\u001b[0m           x_file):\n\u001b[1;32m      6\u001b[0m     \u001b[0mtoken_length\u001b[0m \u001b[0;34m=\u001b[0m \u001b[0mmax_length\u001b[0m\u001b[0;34m\u001b[0m\u001b[0m\n\u001b[0;32m----> 7\u001b[0;31m     \u001b[0mw2v\u001b[0m \u001b[0;34m=\u001b[0m \u001b[0mword2vec\u001b[0m\u001b[0;34m.\u001b[0m\u001b[0mload\u001b[0m\u001b[0;34m(\u001b[0m\u001b[0membedding_file\u001b[0m\u001b[0;34m)\u001b[0m\u001b[0;34m\u001b[0m\u001b[0m\n\u001b[0m\u001b[1;32m      8\u001b[0m     \u001b[0mvoc\u001b[0m \u001b[0;34m=\u001b[0m \u001b[0mw2v\u001b[0m\u001b[0;34m.\u001b[0m\u001b[0mwv\u001b[0m\u001b[0;34m.\u001b[0m\u001b[0mvocab\u001b[0m\u001b[0;34m\u001b[0m\u001b[0m\n\u001b[1;32m      9\u001b[0m \u001b[0;34m\u001b[0m\u001b[0m\n",
      "\u001b[0;31mAttributeError\u001b[0m: module 'gensim.models.word2vec' has no attribute 'load'"
     ]
    }
   ],
   "source": [
    "def get_x(csv_path,\n",
    "          col,\n",
    "          max_length,\n",
    "         embedding_file,\n",
    "          x_file):\n",
    "    token_length = max_length\n",
    "    w2v = word2vec.load(embedding_file)\n",
    "    voc = w2v.wv.vocab\n",
    "    \n",
    "    def text2idx(text):\n",
    "        idx= []\n",
    "        for token in text.split():\n",
    "            if token in voc.keys():\n",
    "                idx.append(voc[token].index)\n",
    "        return idx\n",
    "    \n",
    "    train_x = pd.read_csv(csv_path, usecols=[col])[col].apply(text2idx)\n",
    "    #model.wv.vocab['unk'].index = 126\n",
    "    data = pad_sequences(train_x, maxlen=token_length, value=126)\n",
    "    \n",
    "    embedding_matrix = model.wv.vectors\n",
    "    x = modelx(embedding_matrix, token_length, data)\n",
    "    with open(x_file, 'wb') as f:\n",
    "        p.dump(x, f)\n",
    "get_x('call_reason.csv', 'text', 400, 'text_em.model', 'word_g.x')"
   ]
  },
  {
   "cell_type": "code",
   "execution_count": 75,
   "metadata": {},
   "outputs": [],
   "source": [
    "get_x('call_reason.csv', 'token', 150, 'token_embedding.bin', 'token.x')"
   ]
  },
  {
   "cell_type": "code",
   "execution_count": 117,
   "metadata": {},
   "outputs": [],
   "source": [
    "from gensim.models.word2vec import Word2Vec\n",
    "\n",
    "import numpy as np\n",
    "from modelx import modelx\n",
    "def get_x(csv_path,\n",
    "          col,\n",
    "          max_length,\n",
    "         voc_file,\n",
    "          embed_file,\n",
    "          x_file):\n",
    "    model = Word2Vec.load(embed_file)\n",
    "    token_length = max_length\n",
    "    voc = model.wv.vocab\n",
    "    def text2idx(text):\n",
    "        idx = []\n",
    "        for token in text.split():\n",
    "            if token in voc.keys():\n",
    "                idx.append(voc[token].index)\n",
    "        return idx\n",
    "    \n",
    "    train_x = pd.read_csv(csv_path, usecols=[col])[col].apply(text2idx)\n",
    "    #model.wv.vocab['unk'].index = 126\n",
    "    data = pad_sequences(train_x, maxlen=token_length, value=126)\n",
    "    \n",
    "    embedding_matrix = model.wv.vectors\n",
    "    x = modelx(embedding_matrix, token_length, data)\n",
    "    with open(x_file, 'wb') as f:\n",
    "        p.dump(x, f)\n",
    "get_x('call_reason.csv', 'token', 150, 'token.voc', 'token_em.model', 'token_g.x' )"
   ]
  },
  {
   "cell_type": "code",
   "execution_count": 118,
   "metadata": {},
   "outputs": [],
   "source": [
    "get_x('call_reason.csv', 'token', 150, 'token.voc', 'token_em_untf.model', 'token_g.x' )"
   ]
  },
  {
   "cell_type": "code",
   "execution_count": null,
   "metadata": {},
   "outputs": [],
   "source": []
  }
 ],
 "metadata": {
  "kernelspec": {
   "display_name": "Python 3",
   "language": "python",
   "name": "python3"
  },
  "language_info": {
   "codemirror_mode": {
    "name": "ipython",
    "version": 3
   },
   "file_extension": ".py",
   "mimetype": "text/x-python",
   "name": "python",
   "nbconvert_exporter": "python",
   "pygments_lexer": "ipython3",
   "version": "3.6.5"
  }
 },
 "nbformat": 4,
 "nbformat_minor": 2
}
