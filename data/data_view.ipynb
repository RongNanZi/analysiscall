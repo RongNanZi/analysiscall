{
 "cells": [
  {
   "cell_type": "code",
   "execution_count": 6,
   "metadata": {},
   "outputs": [
    {
     "data": {
      "text/plain": [
       "0       投诉（含抱怨） \n",
       "1            办理 \n",
       "4       咨询（含查询） \n",
       "239          其他 \n",
       "3766      表扬及建议 \n",
       "6329        非来电 \n",
       "Name: class, dtype: object"
      ]
     },
     "execution_count": 6,
     "metadata": {},
     "output_type": "execute_result"
    }
   ],
   "source": [
    "import pandas as pd\n",
    "csv_data = pd.read_table('callReason.txt', header=None)\n",
    "csv_data.columns=['class', 'text']\n",
    "csv_data['class'].drop_duplicates()"
   ]
  },
  {
   "cell_type": "code",
   "execution_count": 7,
   "metadata": {},
   "outputs": [],
   "source": [
    "da = csv_data.groupby('class').count()"
   ]
  },
  {
   "cell_type": "code",
   "execution_count": 8,
   "metadata": {},
   "outputs": [
    {
     "data": {
      "text/html": [
       "<div>\n",
       "<style scoped>\n",
       "    .dataframe tbody tr th:only-of-type {\n",
       "        vertical-align: middle;\n",
       "    }\n",
       "\n",
       "    .dataframe tbody tr th {\n",
       "        vertical-align: top;\n",
       "    }\n",
       "\n",
       "    .dataframe thead th {\n",
       "        text-align: right;\n",
       "    }\n",
       "</style>\n",
       "<table border=\"1\" class=\"dataframe\">\n",
       "  <thead>\n",
       "    <tr style=\"text-align: right;\">\n",
       "      <th></th>\n",
       "      <th>text</th>\n",
       "    </tr>\n",
       "    <tr>\n",
       "      <th>class</th>\n",
       "      <th></th>\n",
       "    </tr>\n",
       "  </thead>\n",
       "  <tbody>\n",
       "    <tr>\n",
       "      <th>其他</th>\n",
       "      <td>80</td>\n",
       "    </tr>\n",
       "    <tr>\n",
       "      <th>办理</th>\n",
       "      <td>4931</td>\n",
       "    </tr>\n",
       "    <tr>\n",
       "      <th>咨询（含查询）</th>\n",
       "      <td>4101</td>\n",
       "    </tr>\n",
       "    <tr>\n",
       "      <th>投诉（含抱怨）</th>\n",
       "      <td>6072</td>\n",
       "    </tr>\n",
       "    <tr>\n",
       "      <th>表扬及建议</th>\n",
       "      <td>1</td>\n",
       "    </tr>\n",
       "    <tr>\n",
       "      <th>非来电</th>\n",
       "      <td>2</td>\n",
       "    </tr>\n",
       "  </tbody>\n",
       "</table>\n",
       "</div>"
      ],
      "text/plain": [
       "          text\n",
       "class         \n",
       "其他          80\n",
       "办理        4931\n",
       "咨询（含查询）   4101\n",
       "投诉（含抱怨）   6072\n",
       "表扬及建议        1\n",
       "非来电          2"
      ]
     },
     "execution_count": 8,
     "metadata": {},
     "output_type": "execute_result"
    }
   ],
   "source": [
    "da"
   ]
  },
  {
   "cell_type": "code",
   "execution_count": null,
   "metadata": {},
   "outputs": [],
   "source": []
  },
  {
   "cell_type": "code",
   "execution_count": 7,
   "metadata": {},
   "outputs": [],
   "source": [
    "da['class'] = ['others', 'transform', 'research', 'complain',  'prains', 'non-call']"
   ]
  },
  {
   "cell_type": "code",
   "execution_count": 8,
   "metadata": {},
   "outputs": [
    {
     "data": {
      "text/plain": [
       "<matplotlib.axes._subplots.AxesSubplot at 0x7f0f51cdb400>"
      ]
     },
     "execution_count": 8,
     "metadata": {},
     "output_type": "execute_result"
    },
    {
     "data": {
      "image/png": "[encoded data removed]",
      "text/plain": [
       "<Figure size 720x444.96 with 1 Axes>"
      ]
     },
     "metadata": {},
     "output_type": "display_data"
    }
   ],
   "source": [
    "import matplotlib.pyplot as plt\n",
    "import seaborn as sns \n",
    "%matplotlib inline\n",
    "fig, ax = plt.subplots( 1,1, figsize=(10, 6.18))\n",
    "sns.barplot(x = 'text', y = 'class', data=da,  label = 'class distribute')"
   ]
  },
  {
   "cell_type": "code",
   "execution_count": 15,
   "metadata": {},
   "outputs": [
    {
     "data": {
      "text/plain": [
       "<matplotlib.axes._subplots.AxesSubplot at 0x7f0f5192e748>"
      ]
     },
     "execution_count": 15,
     "metadata": {},
     "output_type": "execute_result"
    },
    {
     "data": {
      "image/png": "[encoded data removed]",
      "text/plain": [
       "<Figure size 1440x720 with 2 Axes>"
      ]
     },
     "metadata": {},
     "output_type": "display_data"
    }
   ],
   "source": [
    "def get_counter(text):\n",
    "    return len(text)\n",
    "csv_data['text_length'] = csv_data['text'].apply(get_counter)\n",
    "fig, ax = plt.subplots( 1,2, figsize=(20, 10))\n",
    "sns.boxplot( ax = ax[0], y = 'text_length', color='royalblue',data=csv_data)\n",
    "sns.boxplot( ax = ax[1], x = 'class', y = 'text_length', color='royalblue',data=csv_data)"
   ]
  },
  {
   "cell_type": "code",
   "execution_count": 9,
   "metadata": {},
   "outputs": [
    {
     "name": "stderr",
     "output_type": "stream",
     "text": [
      "Building prefix dict from the default dictionary ...\n",
      "Loading model from cache /tmp/jieba.cache\n",
      "Dumping model to file cache /tmp/jieba.cache\n",
      "Dump cache file failed.\n",
      "Traceback (most recent call last):\n",
      "  File \"/home/shiqundong/miniconda3/lib/python3.6/site-packages/jieba/__init__.py\", line 152, in initialize\n",
      "    _replace_file(fpath, cache_file)\n",
      "PermissionError: [Errno 1] Operation not permitted: '/tmp/tmpi3_fuk_g' -> '/tmp/jieba.cache'\n",
      "Loading model cost 1.030 seconds.\n",
      "Prefix dict has been built succesfully.\n"
     ]
    }
   ],
   "source": [
    "import jieba\n",
    "def get_token(text):\n",
    "    token = jieba.cut(text)\n",
    "    return ' '.join(token)\n",
    "csv_data['token'] = csv_data['text'].apply(get_token)"
   ]
  },
  {
   "cell_type": "code",
   "execution_count": 13,
   "metadata": {},
   "outputs": [
    {
     "data": {
      "text/plain": [
       "'你好很高兴为您服务.你好，给我给我这个转成那个，一百三十八那个套餐.好的，现在转现在就生效了.那您这边.电话，按一号键确认，我帮您办理.一百三十八元的话，那您需要那个.五百分钟通话一g流量这个吗.嗯，还有啥还有啥.嗯五百三，呃一百三十八元就这一种.啊，你说按啥确认呐.按一号键听好提示音.好的请您稍等.好的，这边帮您转成功了，先生，立即生效.嗯，一百三十八套餐是啊.对是的.好好.嗯，好还有其他可以帮到您呢.没有了再见.嗯，好，祝您新年愉快 ，再见.再见'"
      ]
     },
     "execution_count": 13,
     "metadata": {},
     "output_type": "execute_result"
    }
   ],
   "source": [
    "csv_data.loc[1]['text']"
   ]
  },
  {
   "cell_type": "code",
   "execution_count": 14,
   "metadata": {},
   "outputs": [
    {
     "data": {
      "text/plain": [
       "['其他 ', '办理 ', '咨询（含查询） ', '投诉（含抱怨） ', '表扬及建议 ', '非来电 ']"
      ]
     },
     "execution_count": 14,
     "metadata": {},
     "output_type": "execute_result"
    }
   ],
   "source": [
    "list(da.index.values)"
   ]
  },
  {
   "cell_type": "code",
   "execution_count": 16,
   "metadata": {},
   "outputs": [],
   "source": [
    "label_dict = dict(zip(list(da.index.values[:4]), range(4)))\n",
    "def get_label(cls):\n",
    "    if cls in label_dict.keys():\n",
    "        return label_dict[cls]\n",
    "    return 0\n",
    "csv_data['label'] = csv_data['class'].apply(get_label)"
   ]
  },
  {
   "cell_type": "code",
   "execution_count": 17,
   "metadata": {},
   "outputs": [
    {
     "data": {
      "text/plain": [
       "0      3\n",
       "1      1\n",
       "4      2\n",
       "239    0\n",
       "Name: label, dtype: int64"
      ]
     },
     "execution_count": 17,
     "metadata": {},
     "output_type": "execute_result"
    }
   ],
   "source": [
    "csv_data['label'].drop_duplicates()"
   ]
  },
  {
   "cell_type": "code",
   "execution_count": 18,
   "metadata": {},
   "outputs": [],
   "source": [
    "csv_data.to_csv('call_reason.csv', index=False)"
   ]
  },
  {
   "cell_type": "code",
   "execution_count": 19,
   "metadata": {},
   "outputs": [
    {
     "data": {
      "text/plain": [
       "<matplotlib.axes._subplots.AxesSubplot at 0x7f7f64df27f0>"
      ]
     },
     "execution_count": 19,
     "metadata": {},
     "output_type": "execute_result"
    },
    {
     "data": {
      "image/png": "[encoded data removed]",
      "text/plain": [
       "<Figure size 720x720 with 1 Axes>"
      ]
     },
     "metadata": {},
     "output_type": "display_data"
    }
   ],
   "source": [
    "import pandas as pd\n",
    "csv_data = pd.read_csv('call_reason.csv', usecols=['token'])\n",
    "def get_counter(text):\n",
    "    text = text.split()\n",
    "    return len(text)\n",
    "csv_data['token_length'] = csv_data['token'].apply(get_counter)\n",
    "import matplotlib.pyplot as plt\n",
    "import seaborn as sns \n",
    "%matplotlib inline\n",
    "fig, ax = plt.subplots( 1,1, figsize=(10, 10))\n",
    "sns.boxplot( y = 'token_length', color='royalblue',data=csv_data)"
   ]
  },
  {
   "cell_type": "code",
   "execution_count": 8,
   "metadata": {},
   "outputs": [
    {
     "data": {
      "text/plain": [
       "'你好 高兴 您 服务 . 喂 你好 . 嗯 ， 我家 的 宽带 ， 昨天晚上 ， 就 掉线 了 . 这 这边 是 我 这边 什么 都 收不到 ， 电视 也 看不到 ， 无线网 也 不能 用 . 请问 您 的 宽带 账号 是 本 手机 吗 . 嗯 ， 对 ， 是 这个 本 . 就 这个 本 手机 吗 . 后 有没有 提示 错误代码 . 这个 好像 他 说 什么 ， . 我 网络 ， 网络 不能 用 ， 什么 的 . 嗯 ， 那 请问 一下 ， 家 里面 使用 的 有没有 光猫 还有 路由器 . 那 都 有 啊 . 您 看 一下 光猫 上 的 指示灯 有没有 亮红灯 . 他 那个 光猫 上 好像 ， 好像 他 他 启动 了 以后 ， 我 看 就 没有 没有 红灯 ， 全是 全是 绿灯 啊 . 是 三 盏灯 吗 . 他 就是 全是 绿 的 ， 我 没有 看到 他亮 的 ， 亮 的 有 红灯 啊 . 您 看 一下 是不是 亮 了 三 盏灯 . 啊 ， 我 我 我 看 一下 啊 . 好 的 . 他 他 就是 就是 那个 ， 那个 上面 你 说 红灯 ， 我 没 我 没 看到 有 ， 红灯 啊 . 您 看 . 几盏 灯好 吗 . 嗯 ， 我 给 你 看 一下 啊 . 嗯 ， 是 . 一盏 两盏 三盏 . 盏灯 吗 . 四 盏灯 . 是 不灯 长亮 的 . 嗯 ， 长亮 的 . 家 里面 使用 的 有没有 路由器 . 有 . 您 看 一下 路由器 上 有 一个 sys 的 指示灯 ， 有没有 闪烁 . 他 这个 好像 好像 是 亮 着 了 ， 没闪 . 这个 指示灯 代表 路由器 的 工作 状态 ， 正常 情况 下 ， 应该 闪烁 的 . 如果 现在 长亮 的话 ， 可能 是 路由器 有 问题 . 请问 您 刚才 有没有 把 路由器 还有 光猫 重启 试过 . 这个 这个 没有 . 那 您 稍候 先 把 光猫 还有 路由器 关 了 ， 过五到 十分钟 重新 再启动 . 看看 能 不能 正常 的 使用 . 如果 那个 指示灯 还是 不 闪烁 的话 ， 那 建议您 换 一个 路由器 . 可能 是 路由器 坏 了 . 嗯 . 嗯 ， 好 的 ， 好 的 ， 好 的 谢谢 啊 . 不 客气 ， 还有 什么 需要 补充 的 吗 . 嗯 . 接   ， 就是 这个 ， 电视 ， 他 ， 他 是 . 嗯 ， 我 我 我 现在 看看 我 可 ， 你 说 我 这 那个 路由器 有 问题 呀 ， 我 先 看 一下 . 好 . 如果 不行 的话 我 再 我 再 打电话 吧 . 嗯 . 好 的 . 嗯 ， 好好 . 感谢您 来电 再见 . 嗯 ， 再见'"
      ]
     },
     "execution_count": 8,
     "metadata": {},
     "output_type": "execute_result"
    }
   ],
   "source": [
    "csv_data.loc[0]['token']"
   ]
  },
  {
   "cell_type": "code",
   "execution_count": 22,
   "metadata": {},
   "outputs": [
    {
     "data": {
      "text/plain": [
       "<matplotlib.axes._subplots.AxesSubplot at 0x7f7f64a9ee10>"
      ]
     },
     "execution_count": 22,
     "metadata": {},
     "output_type": "execute_result"
    },
    {
     "data": {
      "image/png": "[encoded data removed]",
      "text/plain": [
       "<Figure size 720x720 with 1 Axes>"
      ]
     },
     "metadata": {},
     "output_type": "display_data"
    }
   ],
   "source": [
    "import pickle as p\n",
    "token_voc = p.load(open('token.voc', 'rb'))\n",
    "import pandas as pd\n",
    "csv_data = pd.read_csv('call_reason.csv', usecols=['token'])\n",
    "def get_counter(text):\n",
    "    text = text.split()\n",
    "    i = 0\n",
    "    for item in text:\n",
    "        if item in token_voc.keys():\n",
    "            i+=1\n",
    "    return i\n",
    "csv_data['token_length'] = csv_data['token'].apply(get_counter)\n",
    "import matplotlib.pyplot as plt\n",
    "import seaborn as sns \n",
    "%matplotlib inline\n",
    "fig, ax = plt.subplots( 1,1, figsize=(10, 10))\n",
    "fig.title = 'remove stop word'\n",
    "sns.boxplot( y = 'token_length', color='royalblue',data=csv_data)"
   ]
  },
  {
   "cell_type": "code",
   "execution_count": null,
   "metadata": {},
   "outputs": [],
   "source": []
  }
 ],
 "metadata": {
  "kernelspec": {
   "display_name": "Python 3",
   "language": "python",
   "name": "python3"
  },
  "language_info": {
   "codemirror_mode": {
    "name": "ipython",
    "version": 3
   },
   "file_extension": ".py",
   "mimetype": "text/x-python",
   "name": "python",
   "nbconvert_exporter": "python",
   "pygments_lexer": "ipython3",
   "version": "3.6.5"
  }
 },
 "nbformat": 4,
 "nbformat_minor": 2
}
