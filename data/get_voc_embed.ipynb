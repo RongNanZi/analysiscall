{
 "cells": [
  {
   "cell_type": "code",
   "execution_count": 2,
   "metadata": {},
   "outputs": [
    {
     "name": "stdout",
     "output_type": "stream",
     "text": [
      "the voc length is 7872, the embedding size is (7872, 128)\n"
     ]
    }
   ],
   "source": [
    "from gensim.models import word2vec\n",
    "import pandas as pd\n",
    "import pickle as p\n",
    "from sklearn.feature_extraction.text import TfidfVectorizer\n",
    "\n",
    "csv = pd.read_csv('call_reason.csv', usecols=['token', 'text'])\n",
    "#csv['text'] = csv['text'].apply(lambda x: ' '.join([item for item in x]))\n",
    "\n",
    "def get_embedding(data, col, voc_name, embed_name):\n",
    "    vec = TfidfVectorizer(max_df=0.9, min_df= 3,\n",
    "                            smooth_idf=1, sublinear_tf=1)\n",
    "    vec.fit(data[col])\n",
    "    voc = vec.vocabulary_\n",
    "    \n",
    "    sentences = data[col].apply(lambda x:[item for item in x.split() if item in voc.keys()]).values  \n",
    "    model = word2vec.Word2Vec(sentences,min_count =0, hs=1,  window=5, size=256, max_vocab_size =None)\n",
    "    \n",
    "    print('the voc length is {}, the embedding size is {}'.format(len(voc), model.wv.vectors.shape))\n",
    "    model.save(embed_name)\n",
    "        \n",
    "get_voc_embedding(csv, 'token', 'token.voc', 'token_em.model')\n",
    "#get_voc_embedding(csv, 'text', 'word.voc', 'word_em.model')"
   ]
  },
  {
   "cell_type": "code",
   "execution_count": 4,
   "metadata": {},
   "outputs": [],
   "source": [
    "def get_voc_embedding(data, col,  embed_name):\n",
    "    sentences = data[col].apply(lambda x:x.split()).values  \n",
    "    model = word2vec.Word2Vec(sentences, hs=1,  window=5, size=256, max_vocab_size =None)\n",
    "    model.save(embed_name)\n",
    "        \n",
    "get_voc_embedding(csv, 'token', 'token_em_untf.model')"
   ]
  },
  {
   "cell_type": "code",
   "execution_count": null,
   "metadata": {},
   "outputs": [],
   "source": []
  }
 ],
 "metadata": {
  "kernelspec": {
   "display_name": "Python 3",
   "language": "python",
   "name": "python3"
  },
  "language_info": {
   "codemirror_mode": {
    "name": "ipython",
    "version": 3
   },
   "file_extension": ".py",
   "mimetype": "text/x-python",
   "name": "python",
   "nbconvert_exporter": "python",
   "pygments_lexer": "ipython3",
   "version": "3.6.5"
  }
 },
 "nbformat": 4,
 "nbformat_minor": 2
}
