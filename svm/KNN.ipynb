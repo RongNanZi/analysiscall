{
 "cells": [
  {
   "cell_type": "code",
   "execution_count": 1,
   "metadata": {},
   "outputs": [
    {
     "name": "stderr",
     "output_type": "stream",
     "text": [
      "/home/shiqundong/miniconda3/lib/python3.6/site-packages/sklearn/utils/deprecation.py:122: FutureWarning: You are accessing a training score ('train_accuracy'), which will not be available by default any more in 0.21. If you need training scores, please set return_train_score=True\n",
      "  warnings.warn(*warn_args, **warn_kwargs)\n",
      "/home/shiqundong/miniconda3/lib/python3.6/site-packages/sklearn/utils/deprecation.py:122: FutureWarning: You are accessing a training score ('train_f1_macro'), which will not be available by default any more in 0.21. If you need training scores, please set return_train_score=True\n",
      "  warnings.warn(*warn_args, **warn_kwargs)\n",
      "/home/shiqundong/miniconda3/lib/python3.6/site-packages/sklearn/utils/deprecation.py:122: FutureWarning: You are accessing a training score ('train_accuracy'), which will not be available by default any more in 0.21. If you need training scores, please set return_train_score=True\n",
      "  warnings.warn(*warn_args, **warn_kwargs)\n",
      "/home/shiqundong/miniconda3/lib/python3.6/site-packages/sklearn/utils/deprecation.py:122: FutureWarning: You are accessing a training score ('train_f1_macro'), which will not be available by default any more in 0.21. If you need training scores, please set return_train_score=True\n",
      "  warnings.warn(*warn_args, **warn_kwargs)\n"
     ]
    }
   ],
   "source": [
    "from sklearn.neighbors import KNeighborsClassifier\n",
    "import pickle as p\n",
    "import logging\n",
    "import pandas as pd\n",
    "from sklearn.model_selection import train_test_split, cross_validate\n",
    "from sklearn.metrics import accuracy_score, f1_score \n",
    "\n",
    "logging.basicConfig(filename='KNN.log', level=logging.INFO)\n",
    "data_path = '../data/'\n",
    "\n",
    "word_tfidf = p.load(open(data_path+'word.tfidf', 'rb'))\n",
    "token_tfidf = p.load(open(data_path+'token.tfidf', 'rb'))\n",
    "\n",
    "# because the nums of calss 4,5 noly 1,2, so just drop to 0 class\n",
    "y = pd.read_csv(data_path+'call_reason.csv', usecols=['label'])['label'].apply(lambda x: x if x < 4 else 0)\n",
    "\n",
    "def eval(x, y, name):\n",
    "        clf = KNeighborsClassifier(n_jobs=8)\n",
    "        c_v_score = cross_validate(clf, x, y, cv=5, scoring=['accuracy', 'f1_macro']) \n",
    "        logging.info('===========the {} svc result===========\\n \\\n",
    "                     the cross val score is\\n the average rain_acc : {}\\t train_f1 : {} \\n \\\n",
    "                     the test acc : {}\\t f1 : {} \\\n",
    "                     '.format(name, sum(c_v_score['train_accuracy'])/5, sum(c_v_score['train_f1_macro'])/5,\\\n",
    "                             sum(c_v_score['test_accuracy'])/5,sum(c_v_score['test_accuracy'])/5))\n",
    "eval(word_tfidf, y, 'word_level')\n",
    "eval(token_tfidf, y, 'token_level')\n",
    "\n"
   ]
  },
  {
   "cell_type": "code",
   "execution_count": null,
   "metadata": {},
   "outputs": [],
   "source": []
  }
 ],
 "metadata": {
  "kernelspec": {
   "display_name": "Python 3",
   "language": "python",
   "name": "python3"
  },
  "language_info": {
   "codemirror_mode": {
    "name": "ipython",
    "version": 3
   },
   "file_extension": ".py",
   "mimetype": "text/x-python",
   "name": "python",
   "nbconvert_exporter": "python",
   "pygments_lexer": "ipython3",
   "version": "3.6.5"
  }
 },
 "nbformat": 4,
 "nbformat_minor": 2
}
